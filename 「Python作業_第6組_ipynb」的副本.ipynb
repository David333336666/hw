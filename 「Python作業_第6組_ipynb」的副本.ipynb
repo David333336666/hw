{
  "cells": [
    {
      "cell_type": "markdown",
      "metadata": {
        "id": "view-in-github",
        "colab_type": "text"
      },
      "source": [
        "<a href=\"https://colab.research.google.com/github/David333336666/hw/blob/main/%E3%80%8CPython%E4%BD%9C%E6%A5%AD_%E7%AC%AC6%E7%B5%84_ipynb%E3%80%8D%E7%9A%84%E5%89%AF%E6%9C%AC.ipynb\" target=\"_parent\"><img src=\"https://colab.research.google.com/assets/colab-badge.svg\" alt=\"Open In Colab\"/></a>"
      ]
    },
    {
      "cell_type": "markdown",
      "source": [
        "410351362 蕭旻萱\n",
        "410351465 王品文\n",
        "410351623 官筠蓁"
      ],
      "metadata": {
        "id": "Z8zc9VkfRWK6"
      }
    },
    {
      "cell_type": "code",
      "source": [
        "pip install pandas"
      ],
      "metadata": {
        "colab": {
          "base_uri": "https://localhost:8080/"
        },
        "id": "W8v0h9DgRWrv",
        "outputId": "e253fb20-a6bb-4aeb-a45a-d633172b8a32"
      },
      "execution_count": null,
      "outputs": [
        {
          "output_type": "stream",
          "name": "stdout",
          "text": [
            "Requirement already satisfied: pandas in /usr/local/lib/python3.10/dist-packages (2.0.3)\n",
            "Requirement already satisfied: python-dateutil>=2.8.2 in /usr/local/lib/python3.10/dist-packages (from pandas) (2.8.2)\n",
            "Requirement already satisfied: pytz>=2020.1 in /usr/local/lib/python3.10/dist-packages (from pandas) (2023.4)\n",
            "Requirement already satisfied: tzdata>=2022.1 in /usr/local/lib/python3.10/dist-packages (from pandas) (2024.1)\n",
            "Requirement already satisfied: numpy>=1.21.0 in /usr/local/lib/python3.10/dist-packages (from pandas) (1.25.2)\n",
            "Requirement already satisfied: six>=1.5 in /usr/local/lib/python3.10/dist-packages (from python-dateutil>=2.8.2->pandas) (1.16.0)\n"
          ]
        }
      ]
    },
    {
      "cell_type": "code",
      "execution_count": null,
      "metadata": {
        "id": "cOko6jibADdW"
      },
      "outputs": [],
      "source": [
        "import pandas as pd\n"
      ]
    },
    {
      "cell_type": "markdown",
      "metadata": {
        "id": "PXdcDsu_rW7y"
      },
      "source": [
        "1.請將「imdb_top_1000.xlsx」檔案存到你的Google雲端硬碟中，並分享檔案權限的方式讀取檔案中『Data』工作表中的資料，並命名為imdb1000資料集。(10%)\n"
      ]
    },
    {
      "cell_type": "code",
      "execution_count": null,
      "metadata": {
        "id": "FVzh5veWUAhW"
      },
      "outputs": [],
      "source": [
        "df=pd.read_csv(r\"https://docs.google.com/spreadsheets/d/e/2PACX-1vTNv6bpm79hsbp2z0R1CB1c3FAkfYPf8OtTlBXmYEwJrBIIaoMbMPEz4iiRocDhbg/pub?gid=1036091079&single=true&output=csv\",header=0)"
      ]
    },
    {
      "cell_type": "code",
      "source": [
        "imdb1000 = df"
      ],
      "metadata": {
        "id": "SDC8ntyhRqKQ"
      },
      "execution_count": null,
      "outputs": []
    },
    {
      "cell_type": "markdown",
      "metadata": {
        "id": "OQr0CfsUruER"
      },
      "source": [
        "2.請將imdb1000中欄位名稱為「Series_Title」改成「電影片名」；「Runtime」改為「影片長度」並重新存回imdb1000 (5%)。\n"
      ]
    },
    {
      "cell_type": "code",
      "execution_count": null,
      "metadata": {
        "id": "EmHi8-ap200a"
      },
      "outputs": [],
      "source": [
        "imdb1000 = imdb1000.rename(columns={'Series_Title': '電影片名', 'Runtime': '影片長度'})"
      ]
    },
    {
      "cell_type": "code",
      "execution_count": null,
      "metadata": {
        "id": "CiuoMS0pHld9"
      },
      "outputs": [],
      "source": [
        "imdb1000=imdb1000.dropna()"
      ]
    },
    {
      "cell_type": "code",
      "source": [
        "#pd.to_numeric(imdb1000['Gross'],downcast='integer')\n",
        "imdb1000['Released_Year'] = imdb1000['Released_Year'].astype('object')\n",
        "imdb1000['Gross'] = imdb1000['Gross'].str.replace(',', '')\n",
        "#object_cols = imdb1000.select_dtypes(include=['object']).columns\n"
      ],
      "metadata": {
        "id": "Oxv4Lg6oS9P_"
      },
      "execution_count": null,
      "outputs": []
    },
    {
      "cell_type": "code",
      "source": [
        "imdb1000['Gross']"
      ],
      "metadata": {
        "id": "PoRjcDX-SL2_"
      },
      "execution_count": null,
      "outputs": []
    },
    {
      "cell_type": "code",
      "source": [
        "imdb1000.head(10)"
      ],
      "metadata": {
        "id": "JK4K0DV3SRl_"
      },
      "execution_count": null,
      "outputs": []
    },
    {
      "cell_type": "code",
      "source": [
        "imdb1000['Gross'] = imdb1000['Gross'].astype('int64')"
      ],
      "metadata": {
        "id": "ON5X1V-DSQiX"
      },
      "execution_count": null,
      "outputs": []
    },
    {
      "cell_type": "code",
      "source": [
        "imdb1000['Gross'].tail()"
      ],
      "metadata": {
        "id": "9pIv9hwaSWB2"
      },
      "execution_count": null,
      "outputs": []
    },
    {
      "cell_type": "markdown",
      "metadata": {
        "id": "_Dcqkk01rypr"
      },
      "source": [
        "3.請用info指令檢視資料集中變數是否符合「imdb_top_1000.xlsx」檔案中『變數定義』所認定之定義；若不是，請將該變數轉型成適當的資料型別(10%)。\n"
      ]
    },
    {
      "cell_type": "code",
      "source": [
        "imdb1000.info()"
      ],
      "metadata": {
        "id": "eQHrWoga6wj2"
      },
      "execution_count": null,
      "outputs": []
    },
    {
      "cell_type": "markdown",
      "metadata": {
        "id": "0Kgzasxbr0yZ"
      },
      "source": [
        "4.請將imdb1000中有遺失值的列刪除，另存成imdb_drop(5%)。"
      ]
    },
    {
      "cell_type": "code",
      "execution_count": null,
      "metadata": {
        "id": "Rwi2tm6cHusO"
      },
      "outputs": [],
      "source": [
        "imdb_drop = imdb1000.dropna(axis=0, how='any')"
      ]
    },
    {
      "cell_type": "code",
      "execution_count": null,
      "metadata": {
        "id": "BBzwdggfhKAA"
      },
      "outputs": [],
      "source": [
        "imdb_drop"
      ]
    },
    {
      "cell_type": "markdown",
      "metadata": {
        "id": "lmwNcRzHr1c5"
      },
      "source": [
        "5.請用「if…elif…elif…else…判斷式」將imdb_drop中「IMDB_Rating」重新定義一個變數為『評等』存回imdb_drop這個資料集內，變數定義如下：(10%)\n",
        "A   >= 9.0\n",
        "B   < 9.0 and >= 8.5\n",
        "C   <8.5 and >= 8.0\n",
        "D   <8.0\n",
        "\n"
      ]
    },
    {
      "cell_type": "code",
      "execution_count": null,
      "metadata": {
        "id": "bjDtz9B0r5Yh"
      },
      "outputs": [],
      "source": [
        "grade=list()\n",
        "for i in imdb1000[\"IMDB_Rating\"]:\n",
        "    if i>=9.0:\n",
        "        grade.append(\"A\")\n",
        "    elif i>=8.5:\n",
        "        grade.append(\"B\")\n",
        "    elif i>=8.0:\n",
        "        #age_1=\"46歲至65歲\"\n",
        "        grade.append(\"C\")\n",
        "    else:\n",
        "        #age_1=\"65歲以上\"\n",
        "        grade.append(\"D\")\n",
        "imdb1000[\"評等\"]=grade\n",
        "imdb_drop[\"評等\"]=imdb1000[\"評等\"]"
      ]
    },
    {
      "cell_type": "code",
      "source": [
        "print(imdb1000.head())"
      ],
      "metadata": {
        "id": "3Uk6uI-vTWZI"
      },
      "execution_count": null,
      "outputs": []
    },
    {
      "cell_type": "markdown",
      "metadata": {
        "id": "2mMFaBjvr5to"
      },
      "source": [
        "6.請將imdb_drop中的「電影片名」定義成index並重新存回imdb_drop (5%)。"
      ]
    },
    {
      "cell_type": "code",
      "execution_count": null,
      "metadata": {
        "id": "zh-LzW5rr80S"
      },
      "outputs": [],
      "source": [
        "imdb_drop = imdb_drop.set_index('電影片名')\n"
      ]
    },
    {
      "cell_type": "markdown",
      "metadata": {
        "id": "jliqsQL0r9GR"
      },
      "source": [
        "7.請將imdb_drop中「影片長度」、「IMDB_Rating」、「Meta_score」、「No_of_Votes」、「Gross」5個欄位資料另存為imdb_numeric資料集(5%)。\n"
      ]
    },
    {
      "cell_type": "code",
      "execution_count": null,
      "metadata": {
        "id": "ganPbvepr_AJ"
      },
      "outputs": [],
      "source": [
        "imdb_numeric = imdb_drop[['影片長度', 'IMDB_Rating', 'Meta_score', 'No_of_Votes', 'Gross']]"
      ]
    },
    {
      "cell_type": "code",
      "source": [
        "imdb_numeric"
      ],
      "metadata": {
        "id": "gHVKTV1vThE2"
      },
      "execution_count": null,
      "outputs": []
    },
    {
      "cell_type": "markdown",
      "metadata": {
        "id": "Rs84ZaDlr_SI"
      },
      "source": [
        "8.計算imdb_numeric所有欄位的平均數、標準差、最大值、最小值，以及變數間的共變異數及相關係數矩陣(10%)。\n"
      ]
    },
    {
      "cell_type": "code",
      "execution_count": null,
      "metadata": {
        "id": "iFbuvI43sBFg"
      },
      "outputs": [],
      "source": [
        "imdb_numeric.describe()"
      ]
    },
    {
      "cell_type": "code",
      "source": [
        "imdb_numeric.cov()"
      ],
      "metadata": {
        "id": "l3c0a8utTp9H"
      },
      "execution_count": null,
      "outputs": []
    },
    {
      "cell_type": "code",
      "source": [
        "imdb_numeric.corr()"
      ],
      "metadata": {
        "id": "dx5ymzEtTrxt"
      },
      "execution_count": null,
      "outputs": []
    },
    {
      "cell_type": "markdown",
      "metadata": {
        "id": "AHDMSIK0sBSw"
      },
      "source": [
        "9.請將imdb_drop中「評等」另存成imdb_rate的資料集(5%)。\n"
      ]
    },
    {
      "cell_type": "code",
      "execution_count": null,
      "metadata": {
        "id": "YkGVfO9usDGh"
      },
      "outputs": [],
      "source": [
        "imdb_rate=imdb_drop[\"評等\"]"
      ]
    },
    {
      "cell_type": "code",
      "source": [
        "imdb_rate"
      ],
      "metadata": {
        "id": "ZGej6CgETxBo"
      },
      "execution_count": null,
      "outputs": []
    },
    {
      "cell_type": "markdown",
      "metadata": {
        "id": "qsQa4D1vsDTQ"
      },
      "source": [
        "10.請將imdb_rate及imdb_numeric兩個資料集進行欄位合併成imdb_merge(5%)。\n"
      ]
    },
    {
      "cell_type": "code",
      "execution_count": null,
      "metadata": {
        "id": "0vVd6fa9sGnw"
      },
      "outputs": [],
      "source": [
        "imdb_merge = pd.merge(imdb_rate, imdb_numeric, left_index=True, right_index=True)"
      ]
    },
    {
      "cell_type": "code",
      "source": [
        "imdb_merge"
      ],
      "metadata": {
        "id": "aeadQH05T03e"
      },
      "execution_count": null,
      "outputs": []
    },
    {
      "cell_type": "markdown",
      "metadata": {
        "id": "-_62veQ4sGFR"
      },
      "source": [
        "11.以imdb_merge中「評等」進行資料分組，分別計算其「影片長度」、「IMDB_Rating」、「Meta_score」、「No_of_Votes」、「Gross」5個變數的平均數、個數(10%)。\n"
      ]
    },
    {
      "cell_type": "code",
      "execution_count": null,
      "metadata": {
        "id": "mEuRQwi6sI-h"
      },
      "outputs": [],
      "source": [
        "grouped = imdb_merge.groupby('評等')[['影片長度', 'IMDB_Rating', 'Meta_score', 'No_of_Votes', 'Gross']].agg(['mean', 'count'])"
      ]
    },
    {
      "cell_type": "code",
      "source": [
        "grouped"
      ],
      "metadata": {
        "id": "_v0OeoZfT6ue"
      },
      "execution_count": null,
      "outputs": []
    },
    {
      "cell_type": "markdown",
      "metadata": {
        "id": "1RPujH-qsJNI"
      },
      "source": [
        "12.請以imdb_drop中「Certificate」項目的次數分配表繪製圓餅圖，並命名該圖表的title為『認證項目圓餅圖』(10%)。\n"
      ]
    },
    {
      "cell_type": "code",
      "execution_count": null,
      "metadata": {
        "id": "GIl2XVQ4sKto"
      },
      "outputs": [],
      "source": []
    },
    {
      "cell_type": "markdown",
      "metadata": {
        "id": "ECcJooMosK4A"
      },
      "source": [
        "13.請篩選imdb_drop中「Certificate」為U的項目，且欄位保留「Certificate」及「Meta_Score」2個變數，另存成imdb_U資料集(5%)。\n"
      ]
    },
    {
      "cell_type": "code",
      "execution_count": null,
      "metadata": {
        "id": "bHzSsMY0sNW4"
      },
      "outputs": [],
      "source": []
    },
    {
      "cell_type": "markdown",
      "metadata": {
        "id": "hH1YR_-FsNrh"
      },
      "source": [
        "14.請繪製imdb_U中「Meta_Score」變數的莖葉圖(5%)。\n"
      ]
    },
    {
      "cell_type": "code",
      "execution_count": null,
      "metadata": {
        "id": "akSVVp4esPoI"
      },
      "outputs": [],
      "source": []
    },
    {
      "cell_type": "markdown",
      "metadata": {
        "id": "ysWbM3xZsPzR"
      },
      "source": [
        "15.請繪製imdb_drop中「No_of_Votes」的盒鬚圖（以「評等」進行分組）(10%)。"
      ]
    },
    {
      "cell_type": "code",
      "execution_count": null,
      "metadata": {
        "id": "iOp1h-GGsRf4"
      },
      "outputs": [],
      "source": []
    },
    {
      "cell_type": "markdown",
      "metadata": {
        "id": "ZZSaZDxpsRtw"
      },
      "source": [
        "16.請分別讀入以下兩個檔案，並分別命名為Dat1及Dat2，再將這兩個檔案上下合併(10%)。\n"
      ]
    }
  ],
  "metadata": {
    "colab": {
      "provenance": [],
      "include_colab_link": true
    },
    "kernelspec": {
      "display_name": "Python 3",
      "name": "python3"
    },
    "language_info": {
      "name": "python"
    }
  },
  "nbformat": 4,
  "nbformat_minor": 0
}